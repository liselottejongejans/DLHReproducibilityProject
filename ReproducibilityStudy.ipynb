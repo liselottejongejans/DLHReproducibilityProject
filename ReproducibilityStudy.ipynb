{
 "cells": [
  {
   "cell_type": "markdown",
   "id": "382992e0",
   "metadata": {},
   "source": [
    "#  Reproducibility Project for CS598 DL4H in Spring 2023\n"
   ]
  },
  {
   "cell_type": "markdown",
   "id": "4783bfa4",
   "metadata": {},
   "source": [
    "Our code for our reproducibility study is heavily based on the original code of the paper Makarious, M.B., Leonard, H.L., Vitale, D. et al. Multi-modality machine learning predicting Parkinson’s disease. npj Parkinsons Dis. 8, 35 (2022). https://doi.org/10.1038/s41531-022-00288-w\n",
    "\n",
    "The original code can be accessed at https://github.com/GenoML/GenoML_multimodal_PD/\n",
    "\n",
    "The original code and our code implement the GenoML Python package (https://genoml.com/)"
   ]
  },
  {
   "cell_type": "markdown",
   "id": "c68334a0",
   "metadata": {},
   "source": [
    "## Initial Set Up"
   ]
  },
  {
   "cell_type": "code",
   "execution_count": null,
   "id": "34e4cfdd",
   "metadata": {},
   "outputs": [],
   "source": [
    "#pip install genoml2\n",
    "\n",
    "# requirements.txt of genoml2 contains the following required packages : \n",
    "#pip install joblib\n",
    "#pip install matplotlib\n",
    "#pip install numpy\n",
    "#pip install tables\n",
    "#pip install pandas\n",
    "#pip install pandas_plink\n",
    "#pip install requests\n",
    "#pip install scikit-learn\n",
    "#pip install scipy\n",
    "#pip install seaborn\n",
    "#pip install statsmodels\n",
    "#pip install xgboost\n",
    "#pip install umap-learn\n",
    "#pip install tensorflow"
   ]
  },
  {
   "cell_type": "code",
   "execution_count": 1,
   "id": "73123eeb",
   "metadata": {},
   "outputs": [],
   "source": [
    "import os\n",
    "import sys\n",
    "import argparse \n",
    "import math\n",
    "import time\n",
    "import joblib\n",
    "import subprocess\n",
    "import numpy as np\n",
    "import pandas as pd\n",
    "import tables\n",
    "import statsmodels.api as sm\n",
    "from scipy import stats"
   ]
  },
  {
   "cell_type": "markdown",
   "id": "1e152865",
   "metadata": {},
   "source": [
    "## Loading in Data"
   ]
  },
  {
   "cell_type": "markdown",
   "id": "4fa2b5da",
   "metadata": {},
   "source": [
    "As we do not yet have access to tier 2 data, this section will need to be adjusted once we have the proper csv files"
   ]
  },
  {
   "cell_type": "code",
   "execution_count": null,
   "id": "238eee11",
   "metadata": {},
   "outputs": [],
   "source": []
  },
  {
   "cell_type": "markdown",
   "id": "1d8fd357",
   "metadata": {},
   "source": [
    "## Implementation"
   ]
  },
  {
   "cell_type": "markdown",
   "id": "cc0d5329",
   "metadata": {},
   "source": [
    "### Data Munging\n",
    "\n",
    "For munging with GenoML, we need to specify certain arguments. In our case, we will classify two classes, thus have supervised learning. The data will be discrete. With the --prefix argument we specify where we would like our output to be stored (which in our case is the outputs folder) and the --pheno argument specifies where the phenotype file is stored (this file has the ID stored in the first column, and the label in the second column (0 for controls and 1 for cases)). The --p flag adds a p-value cut off, which we adjust when rerunning the code. The --feature_selection flag uses the extraTrees to find the features that most contribute to the model."
   ]
  },
  {
   "cell_type": "code",
   "execution_count": null,
   "id": "9d432900",
   "metadata": {},
   "outputs": [],
   "source": [
    "genoml discrete supervised munge \\\n",
    "-- p 0.01 \\\n",
    "--prefix outputs/test_discrete_geno \\\n",
    "--geno examples/discrete/training \\\n",
    "--pheno examples/discrete/training_pheno.csv \\ \n",
    "--impute mean \\ \n",
    "--feature_selection 500"
   ]
  },
  {
   "cell_type": "markdown",
   "id": "1c557330",
   "metadata": {},
   "source": [
    "### Model Training\n",
    "\n",
    "For training the model, comparable arguments need to be set in GenoML. The train command looks for the .dataForML file that was created in the munge step."
   ]
  },
  {
   "cell_type": "code",
   "execution_count": null,
   "id": "269b05f1",
   "metadata": {},
   "outputs": [],
   "source": [
    "genoml discrete supervised train \\\n",
    "--prefix outputs/PPMI_Only_genetics_with_PRS\n"
   ]
  },
  {
   "cell_type": "markdown",
   "id": "988b3c6d",
   "metadata": {},
   "source": [
    "### Model Tuning\n"
   ]
  },
  {
   "cell_type": "code",
   "execution_count": null,
   "id": "a5266160",
   "metadata": {},
   "outputs": [],
   "source": [
    "genoml discrete supervised tune \\\n",
    "--prefix outputs/test_discrete_geno\n"
   ]
  }
 ],
 "metadata": {
  "kernelspec": {
   "display_name": "Python 3 (ipykernel)",
   "language": "python",
   "name": "python3"
  },
  "language_info": {
   "codemirror_mode": {
    "name": "ipython",
    "version": 3
   },
   "file_extension": ".py",
   "mimetype": "text/x-python",
   "name": "python",
   "nbconvert_exporter": "python",
   "pygments_lexer": "ipython3",
   "version": "3.8.8"
  }
 },
 "nbformat": 4,
 "nbformat_minor": 5
}
