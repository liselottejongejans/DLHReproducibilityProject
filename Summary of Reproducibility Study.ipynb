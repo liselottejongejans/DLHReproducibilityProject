{
 "cells": [
  {
   "cell_type": "markdown",
   "id": "ad8b937b",
   "metadata": {},
   "source": [
    "#  Summary of Reproducibility Project for CS598 DL4H in Spring 2023\n",
    "\n",
    "## Summary\n",
    "\n",
    "\n",
    "TODO: A summary of the report and findings Reproducibility Summary, about 200 words)"
   ]
  },
  {
   "cell_type": "code",
   "execution_count": null,
   "id": "be50b90a",
   "metadata": {},
   "outputs": [],
   "source": []
  },
  {
   "cell_type": "markdown",
   "id": "713596e5",
   "metadata": {},
   "source": [
    "## Data Overview\n",
    "\n",
    "TODO: An overview of the data with any helpful charts and\n",
    "visualizations from the report and ideally directly using\n",
    "the dataset in the notebook (maybe link to the data folder\n",
    "or URL).\n"
   ]
  },
  {
   "cell_type": "code",
   "execution_count": null,
   "id": "c0553e75",
   "metadata": {},
   "outputs": [],
   "source": []
  },
  {
   "cell_type": "markdown",
   "id": "1a74bf0e",
   "metadata": {},
   "source": [
    "## Methodology Overview\n",
    "\n",
    "TODO: An overview of the methodology and experiments run,\n",
    "ideally with executable code examples\n"
   ]
  },
  {
   "cell_type": "code",
   "execution_count": null,
   "id": "61f385ad",
   "metadata": {},
   "outputs": [],
   "source": []
  },
  {
   "cell_type": "markdown",
   "id": "f2fb79db",
   "metadata": {},
   "source": [
    "## Results Summary\n",
    "\n",
    "TODO: summary of the key results."
   ]
  },
  {
   "cell_type": "code",
   "execution_count": null,
   "id": "780bcabf",
   "metadata": {},
   "outputs": [],
   "source": []
  },
  {
   "cell_type": "markdown",
   "id": "d5660b1f",
   "metadata": {},
   "source": [
    "## References\n"
   ]
  },
  {
   "cell_type": "code",
   "execution_count": null,
   "id": "e8b27a04",
   "metadata": {},
   "outputs": [],
   "source": []
  }
 ],
 "metadata": {
  "kernelspec": {
   "display_name": "Python 3",
   "language": "python",
   "name": "python3"
  },
  "language_info": {
   "codemirror_mode": {
    "name": "ipython",
    "version": 3
   },
   "file_extension": ".py",
   "mimetype": "text/x-python",
   "name": "python",
   "nbconvert_exporter": "python",
   "pygments_lexer": "ipython3",
   "version": "3.8.8"
  }
 },
 "nbformat": 4,
 "nbformat_minor": 5
}
